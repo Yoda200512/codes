{
 "cells": [
  {
   "cell_type": "markdown",
   "id": "8c883f1b-63c2-41a0-9d1b-1d6537c35498",
   "metadata": {},
   "source": [
    "UoW - w2151870 (IIT - 20232749)"
   ]
  },
  {
   "cell_type": "code",
   "execution_count": 2,
   "id": "15b689f2-d318-4f45-a8dc-8e5ae405e394",
   "metadata": {},
   "outputs": [],
   "source": [
    "import pandas as pd\n",
    "import sqlite3 as sq3"
   ]
  },
  {
   "cell_type": "code",
   "execution_count": 12,
   "id": "0a2a36c8-b47f-432f-a636-29aaf5e4a857",
   "metadata": {},
   "outputs": [],
   "source": [
    "conn = sq3.connect('Hospital_System.db')\n",
    "cur = conn.cursor()"
   ]
  },
  {
   "cell_type": "code",
   "execution_count": 14,
   "id": "ca7ebd74-5eba-4cb3-84de-3e268420318e",
   "metadata": {},
   "outputs": [
    {
     "data": {
      "text/plain": [
       "<sqlite3.Cursor at 0x13ad3800b40>"
      ]
     },
     "execution_count": 14,
     "metadata": {},
     "output_type": "execute_result"
    }
   ],
   "source": [
    "cur.execute( ''' \n",
    "CREATE TABLE Hospital (\n",
    "hospital_id INT(3),\n",
    "address VARCHAR(50) UNIQUE NOT NULL,\n",
    "zip_code VARCHAR(10) NOT NULL,\n",
    "city VARCHAR(50) NOT NULL,\n",
    "region VARCHAR(50) NOT NULL,\n",
    "country VARCHAR(50) NOT NULL,\n",
    "CONSTRAINT hospital_pk PRIMARY KEY (hospital_id)\n",
    ");\n",
    "''')"
   ]
  },
  {
   "cell_type": "code",
   "execution_count": 15,
   "id": "5f477561-b49b-4bc1-ba4e-b0b7232825fd",
   "metadata": {},
   "outputs": [
    {
     "data": {
      "text/plain": [
       "<sqlite3.Cursor at 0x13ad3800b40>"
      ]
     },
     "execution_count": 15,
     "metadata": {},
     "output_type": "execute_result"
    }
   ],
   "source": [
    "cur.execute('''\n",
    "CREATE TABLE Wards (\n",
    "ward_id INT(4),\n",
    "ward_name VARCHAR(20) UNIQUE NOT NULL,\n",
    "hospital_id INT(3),\n",
    "CONSTRAINT ward_pk PRIMARY KEY (ward_id),\n",
    "CONSTRAINT hospital_fk FOREIGN KEY (hospital_id)\n",
    "REFERENCES branches(ward_id)\n",
    ");\n",
    "''')"
   ]
  },
  {
   "cell_type": "code",
   "execution_count": 16,
   "id": "4fd390a3-4c1d-4ccb-8e0f-07f73a923fdb",
   "metadata": {},
   "outputs": [
    {
     "data": {
      "text/plain": [
       "<sqlite3.Cursor at 0x13ad3800b40>"
      ]
     },
     "execution_count": 16,
     "metadata": {},
     "output_type": "execute_result"
    }
   ],
   "source": [
    "cur.execute('''\n",
    "INSERT INTO Hospital (hospital_id, address, zip_code, city, region, country)\n",
    "VALUES\n",
    "(101, '50 Green Street', 'SW1 2AA', 'London', 'London', 'UK'),\n",
    "(102, '12 Hill Avenue', 'M1 5GH', 'Manchester', 'Greater Manchester', 'UK'),\n",
    "(103, '34 River Road', 'L2 3DR', 'Liverpool', 'Merseyside', 'UK'),\n",
    "(104, '19 Lake View', 'B4 2DD', 'Birmingham', 'West Midlands', 'UK');\n",
    "''')"
   ]
  },
  {
   "cell_type": "code",
   "execution_count": 18,
   "id": "86037a0f-b875-48b3-8c51-8b6ebd3c5c6d",
   "metadata": {},
   "outputs": [
    {
     "data": {
      "text/plain": [
       "<sqlite3.Cursor at 0x13ad3800b40>"
      ]
     },
     "execution_count": 18,
     "metadata": {},
     "output_type": "execute_result"
    }
   ],
   "source": [
    "cur.execute('''\n",
    "INSERT INTO Wards (Ward_id, ward_name, hospital_id)\n",
    "VALUES\n",
    "(1010, 'Accident', 101),\n",
    "(1020, 'Cardiology', 102),\n",
    "(1030, 'Endoscopy', 103),\n",
    "(1040, 'Surgical', 104),\n",
    "(1050, 'Emergency', NULL);\n",
    "''')"
   ]
  },
  {
   "cell_type": "code",
   "execution_count": 19,
   "id": "b332256f-d051-4e8e-81eb-9ca056426f71",
   "metadata": {},
   "outputs": [
    {
     "name": "stdout",
     "output_type": "stream",
     "text": [
      "All wards along with their hospital location: \n"
     ]
    },
    {
     "data": {
      "text/plain": [
       "[('Accident', '50 Green Street', 'London', 'London', 'UK'),\n",
       " ('Cardiology', '12 Hill Avenue', 'Manchester', 'Greater Manchester', 'UK'),\n",
       " ('Endoscopy', '34 River Road', 'Liverpool', 'Merseyside', 'UK'),\n",
       " ('Surgical', '19 Lake View', 'Birmingham', 'West Midlands', 'UK')]"
      ]
     },
     "execution_count": 19,
     "metadata": {},
     "output_type": "execute_result"
    }
   ],
   "source": [
    "ward_locations = '''\n",
    "select Wards.ward_name,hospital.address, hospital.city, hospital.region, hospital.country\n",
    "from wards right join hospital\n",
    "on wards.hospital_id = hospital.hospital_id;\n",
    "'''\n",
    "print('All wards along with their hospital location: ')\n",
    "cur.execute(ward_locations).fetchall()"
   ]
  },
  {
   "cell_type": "code",
   "execution_count": 20,
   "id": "43ba6b38-44a1-4719-85f6-e6b9c4e5937b",
   "metadata": {},
   "outputs": [
    {
     "name": "stdout",
     "output_type": "stream",
     "text": [
      "All hospital without any wards: \n"
     ]
    },
    {
     "data": {
      "text/plain": [
       "[]"
      ]
     },
     "execution_count": 20,
     "metadata": {},
     "output_type": "execute_result"
    }
   ],
   "source": [
    "hospital_without_wards = '''\n",
    "select Hospital.hospital_id, Hospital.address, Hospital.city, Hospital.region, Hospital.country\n",
    "from hospital\n",
    "left join wards\n",
    "on Hospital.hospital_id = Wards.hospital_id\n",
    "where wards.hospital_id is NULL;\n",
    "'''\n",
    "print('All hospital without any wards: ')\n",
    "cur.execute(hospital_without_wards).fetchall()"
   ]
  },
  {
   "cell_type": "code",
   "execution_count": null,
   "id": "7f76a6a2-b103-49b8-97cd-b4916f2af202",
   "metadata": {},
   "outputs": [],
   "source": []
  }
 ],
 "metadata": {
  "kernelspec": {
   "display_name": "Python 3 (ipykernel)",
   "language": "python",
   "name": "python3"
  },
  "language_info": {
   "codemirror_mode": {
    "name": "ipython",
    "version": 3
   },
   "file_extension": ".py",
   "mimetype": "text/x-python",
   "name": "python",
   "nbconvert_exporter": "python",
   "pygments_lexer": "ipython3",
   "version": "3.12.7"
  }
 },
 "nbformat": 4,
 "nbformat_minor": 5
}
